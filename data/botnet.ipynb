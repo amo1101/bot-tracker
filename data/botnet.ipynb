{
 "cells": [
  {
   "cell_type": "code",
   "execution_count": 16,
   "id": "3048658f-6bb0-4ec9-bbc4-08d4950d81b5",
   "metadata": {},
   "outputs": [],
   "source": [
    "from pathlib import Path\n",
    "import pandas as pd\n",
    "import pygwalker as pyg\n",
    "import os\n",
    "import csv\n",
    "import shutil\n",
    "from datetime import datetime, timedelta\n",
    "\n",
    "REPORT_DIR = 'report'\n",
    "g_data_dir = []\n",
    "\n",
    "def list_directories(directory):\n",
    "    path = Path(directory)\n",
    "    directories = [p.name for p in path.iterdir() if p.name != 'combined']\n",
    "    directories.sort()\n",
    "    return directories\n",
    "\n",
    "\n",
    "def read_all_data_dir(root):\n",
    "    global g_data_dir\n",
    "    g_data_dir.clear()\n",
    "    bots = list_directories(root)\n",
    "    for b in bots:\n",
    "        entry = (b, [])\n",
    "        g_data_dir.append(entry)\n",
    "        b_dir = root + os.sep + b\n",
    "        entry[1].extend(list_directories(b_dir))\n",
    "\n",
    "    if len(g_data_dir) == 0:\n",
    "        print('No data to analyze.')\n",
    "\n",
    "def get_report_dir(bot, measurement):\n",
    "    return f'{REPORT_DIR}/{bot}/{measurement}'\n",
    "\n",
    "\n",
    "def get_measure_time(m):\n",
    "    tr = m.split('_')\n",
    "    s = datetime.strptime(tr[0], '%Y-%m-%d-%H-%M-%S')\n",
    "    e = datetime.strptime(tr[1], '%Y-%m-%d-%H-%M-%S')\n",
    "    return s, e\n",
    "\n",
    "def get_bot_id_prefix(bot_dir):\n",
    "    last_ = bot_dir.rfind(\"_\")\n",
    "    return bot_dir[last_ + 1:]\n",
    "\n",
    "\n",
    "def cnc_stats_combine_same_ip(df):\n",
    "    def custom_agg(group):\n",
    "        start_time_min = group['start_time'].min()\n",
    "        end_time_max = group['end_time'].max()\n",
    "        attemp_start_min = group['attemp_start'].min()\n",
    "        return pd.Series({\n",
    "            'bot_id': group['bot_id'].unique()[0],\n",
    "            'measure_start': group['measure_start'].unique()[0],\n",
    "            'measure_end': group['measure_end'].unique()[0],\n",
    "            'port': ','.join(group['port'].astype(str))[:256],\n",
    "            'packet_cnt': group['packet_cnt'].sum(),\n",
    "            'total_bytes': group['total_bytes'].sum(),\n",
    "            'syn_cnt': group['syn_cnt'].sum(),\n",
    "            'fin_cnt': group['fin_cnt'].sum(),\n",
    "            'rst_cnt': group['rst_cnt'].sum(),\n",
    "            'start_time': start_time_min,\n",
    "            'end_time': end_time_max,\n",
    "            'attemp_start': attemp_start_min,\n",
    "            'is_old_ip': group['is_old_ip'].unique()[0],\n",
    "            'duration': end_time_max - start_time_min\n",
    "        })\n",
    "\n",
    "    grouped = df.groupby('ip')\n",
    "    result = grouped.apply(custom_agg, include_groups=False).reset_index()\n",
    "    result = result[['ip'] + [col for col in result.columns if col != 'ip']]\n",
    "\n",
    "    # filter out records whose total_bytes > 0 and is_old_ip == False which are mistakenly counted as cnc\n",
    "    # those IPs are actually attacking packets whose SYN==1 and ACK==1 but tcp_len > 0\n",
    "    result = result[~((result['is_old_ip'] == False) & (result['total_bytes'] > 0))]\n",
    "    return result\n",
    "\n",
    "\n",
    "def combine_all_measurements(bot, measurements):\n",
    "    combined_dir = f'{REPORT_DIR}/{bot}/combined'\n",
    "    if os.path.exists(combined_dir):\n",
    "        shutil.rmtree(combined_dir)\n",
    "    os.makedirs(combined_dir)\n",
    "\n",
    "    f0 = f'{REPORT_DIR}/{bot}/combined/measurements.csv'\n",
    "    f1 = f'{REPORT_DIR}/{bot}/combined/cnc-status.csv'\n",
    "    f2 = f'{REPORT_DIR}/{bot}/combined/cnc-stats.csv'\n",
    "    f3 = f'{REPORT_DIR}/{bot}/combined/attacks.csv'\n",
    "    bid = get_bot_id_prefix(bot)\n",
    "    m_list = []\n",
    "    df1 = []\n",
    "    df2 = []\n",
    "    df3 = []\n",
    "\n",
    "    # TODO: filter out measurement from 2024-06-29 when tool support multiple CnCs\n",
    "    filter_date = datetime(2024, 6, 29, 00, 00, 00)\n",
    "\n",
    "    for m in measurements:\n",
    "        base = get_report_dir(bot, m)\n",
    "        ms, me = get_measure_time(m)\n",
    "        cnc_ips = []\n",
    "        m_dict = {}\n",
    "        m_dict['bot_id'] = bid\n",
    "        m_dict['measure_start'] = ms\n",
    "        m_dict['measure_end'] = me\n",
    "        \n",
    "        if ms > filter_date:\n",
    "            print(f'measurement of {ms}~{me} filtered out!')\n",
    "            continue\n",
    "        \n",
    "        duration = me - ms\n",
    "        m_dict['duration'] = 1.0 * duration.total_seconds() / 3600\n",
    "        m_list.append(m_dict)\n",
    "        f = f'{base}/cnc-status.csv'\n",
    "        if os.path.isfile(f):\n",
    "            d = pd.read_csv(f)\n",
    "            cnc_ips = d['cnc_ip'].unique()\n",
    "            d['measure_start'] = ms\n",
    "            d['measure_end'] = me\n",
    "            d['bot_id'] = bid\n",
    "            df1.append(d)\n",
    "        f = f'{base}/cnc-stats.csv'\n",
    "        if os.path.isfile(f):\n",
    "            d = pd.read_csv(f)\n",
    "            d['measure_start'] = ms\n",
    "            d['measure_end'] = me\n",
    "            d['bot_id'] = bid\n",
    "            d['start_time'] = pd.to_datetime(d['start_time'])\n",
    "            if 'duration' not in d.columns:\n",
    "                d['end_time'] = pd.to_datetime(d['end_time'])\n",
    "                d['duration'] = d['end_time'] - d['start_time']\n",
    "            d['duration'] =  pd.to_timedelta(d['duration'])\n",
    "            if 'end_time' not in d.columns:\n",
    "                d['end_time'] =  d['start_time'] + d['duration']\n",
    "            d['duration'] =  d['duration'].dt.total_seconds()\n",
    "            d['attemp_start'] = d['start_time'] - d['measure_start']\n",
    "            d['is_old_ip'] =  d['ip'].isin(cnc_ips)\n",
    "\n",
    "            #filter out syn_cnt < 2 which could be scans\n",
    "            # d = d[~(d['syn_cnt'] < 2)]\n",
    "            \n",
    "            # combine records with same IP, we only care Cnc IPs, not port\n",
    "            d1 = cnc_stats_combine_same_ip(d)\n",
    "            df2.append(d1)\n",
    "        f = f'{base}/attacks.csv'\n",
    "        if os.path.isfile(f):\n",
    "            d = pd.read_csv(f)\n",
    "            d['measure_start'] = ms\n",
    "            d['measure_end'] = me\n",
    "            d['bot_id'] = bid\n",
    "            d['duration'] =  pd.to_timedelta(d['duration'])\n",
    "            d['duration'] =  d['duration'].dt.total_seconds()\n",
    "            df3.append(d)\n",
    "\n",
    "    if len(m_list) > 0:\n",
    "        df_m = pd.DataFrame(m_list, columns=['bot_id', 'measure_start', 'measure_end', 'duration'])\n",
    "        df_m.to_csv(f0, index=False)\n",
    "    if len(df1) > 0:\n",
    "        pd.concat(df1, ignore_index=True).to_csv(f1, index=False)\n",
    "    if len(df2) > 0:\n",
    "        pd.concat(df2, ignore_index=True).to_csv(f2, index=False)\n",
    "    if len(df3) > 0:\n",
    "        pd.concat(df3, ignore_index=True).to_csv(f3, index=False)\n",
    "\n",
    "    return \"combined\"\n",
    "\n",
    "\n",
    "def combine_all_reports(bots):\n",
    "    combined_dir = f'{REPORT_DIR}/combined'\n",
    "    if os.path.exists(combined_dir):\n",
    "        shutil.rmtree(combined_dir)\n",
    "    os.makedirs(combined_dir)\n",
    "\n",
    "    f0 = f'{REPORT_DIR}/combined/measurements.csv'\n",
    "    f1 = f'{REPORT_DIR}/combined/cnc-status.csv'\n",
    "    f2 = f'{REPORT_DIR}/combined/cnc-stats.csv'\n",
    "    f3 = f'{REPORT_DIR}/combined/attacks.csv'\n",
    "    df0 = []\n",
    "    df1 = []\n",
    "    df2 = []\n",
    "    df3 = []\n",
    "    for b, ms in bots:\n",
    "        combine_all_measurements(b, ms)\n",
    "\n",
    "    for b, _ in bots:\n",
    "        base = f'{REPORT_DIR}/{b}/combined'\n",
    "        f = f'{base}/measurements.csv'\n",
    "        if os.path.isfile(f):\n",
    "            d = pd.read_csv(f)\n",
    "            df0.append(d)\n",
    "        f = f'{base}/cnc-status.csv'\n",
    "        if os.path.isfile(f):\n",
    "            d = pd.read_csv(f)\n",
    "            df1.append(d)\n",
    "        f = f'{base}/cnc-stats.csv'\n",
    "        if os.path.isfile(f):\n",
    "            d = pd.read_csv(f)\n",
    "            df2.append(d)\n",
    "        f = f'{base}/attacks.csv'\n",
    "        if os.path.isfile(f):\n",
    "            d = pd.read_csv(f)\n",
    "            df3.append(d)\n",
    "\n",
    "    if len(df0) > 0:\n",
    "        pd.concat(df0, ignore_index=True).to_csv(f0, index=False)\n",
    "    if len(df1) > 0:\n",
    "        pd.concat(df1, ignore_index=True).to_csv(f1, index=False)\n",
    "    if len(df2) > 0:\n",
    "        pd.concat(df2, ignore_index=True).to_csv(f2, index=False)\n",
    "    if len(df3) > 0:\n",
    "        pd.concat(df3, ignore_index=True).to_csv(f3, index=False)\n",
    "\n",
    "    return \"combined\"\n",
    "\n",
    "\n",
    "def input_measurement_menu():\n",
    "    if len(g_data_dir) == 0:\n",
    "        return\n",
    "    print('\\nChoose bot, 0 for combined report for all bots:')\n",
    "    i = 1\n",
    "    for b in g_data_dir:\n",
    "        print(f'    {i}. {b[0]}')\n",
    "        i += 1\n",
    "    b_idx = int(input())\n",
    "    if b_idx == 0:\n",
    "        m_dir = combine_all_reports(g_data_dir)\n",
    "        return f'{REPORT_DIR}/{m_dir}'\n",
    "\n",
    "    print('\\nChoose measurement, 0 for combined report for all measurements:')\n",
    "    i = 1\n",
    "    bot = g_data_dir[b_idx - 1]\n",
    "    for m in bot[1]:\n",
    "        print(f'    {i}. {m}')\n",
    "        i += 1\n",
    "    m_idx = int(input())\n",
    "    if m_idx == 0:\n",
    "        m_dir = combine_all_measurements(bot[0], bot[1])\n",
    "    else:\n",
    "        m_dir = bot[1][m_idx - 1]\n",
    "        \n",
    "    return f'{REPORT_DIR}/{bot[0]}/{m_dir}'\n",
    "\n",
    "# start\n",
    "read_all_data_dir(REPORT_DIR)"
   ]
  },
  {
   "cell_type": "code",
   "execution_count": 17,
   "id": "c5e48dff-3c58-4181-be43-e44c8300a9b0",
   "metadata": {},
   "outputs": [
    {
     "name": "stdout",
     "output_type": "stream",
     "text": [
      "\n",
      "Choose bot, 0 for combined report for all bots:\n",
      "    1. 2024_06_10_04_03_20_mirai_87cb7390\n",
      "    2. 2024_06_10_11_49_29_mirai_114187eb\n",
      "    3. 2024_06_10_12_15_28_mirai_e2961432\n",
      "    4. 2024_06_10_13_28_20_mirai_6e00e8d4\n",
      "    5. 2024_06_11_02_56_58_mirai_d2053d4c\n",
      "    6. 2024_06_11_06_05_31_mirai_6fdf5b4b\n",
      "    7. 2024_06_11_06_05_54_mirai_361cd32a\n",
      "    8. 2024_06_11_16_23_06_mirai_a25372d1\n",
      "    9. 2024_06_12_06_37_05_mirai_c087ad31\n",
      "    10. 2024_06_13_10_52_18_mirai_33f9236e\n",
      "    11. 2024_06_13_15_53_11_gafgyt_a9ce0201\n",
      "    12. 2024_06_13_19_30_16_mirai_2a80f110\n",
      "    13. 2024_06_14_07_02_54_mirai_03573b20\n",
      "    14. 2024_06_14_12_54_42_gafgyt_571f149f\n",
      "    15. 2024_06_15_06_46_13_gafgyt_e9626f6b\n",
      "    16. 2024_06_16_08_47_47_mirai_19a6d211\n",
      "    17. 2024_06_16_12_32_14_mirai_dd1b3e85\n",
      "    18. 2024_06_17_12_24_31_mirai_12d7da7f\n",
      "    19. 2024_06_17_14_47_16_mirai_6b941c86\n",
      "    20. 2024_06_18_07_25_16_mirai_14a11457\n",
      "    21. 2024_06_18_07_30_41_mirai_e87d52ee\n",
      "    22. 2024_06_18_08_18_24_gafgyt_5dbaeaca\n",
      "    23. 2024_06_18_21_41_13_mirai_682895d6\n",
      "    24. 2024_06_19_05_05_06_gafgyt_8260e281\n",
      "    25. 2024_06_19_10_22_19_gafgyt_2d31c76a\n",
      "    26. 2024_06_19_23_34_41_mirai_75319078\n",
      "    27. 2024_06_23_11_51_29_mirai_95739ffd\n",
      "    28. 2024_06_23_13_24_33_mirai_88eec0fd\n",
      "    29. 2024_06_24_07_45_38_gafgyt_70ff7828\n",
      "    30. 2024_06_25_16_25_05_mirai_9b3729cf\n",
      "    31. 2024_06_26_06_13_46_mirai_52f43907\n",
      "    32. 2024_06_26_09_45_48_mirai_20c43d5c\n",
      "    33. 2024_06_26_16_12_38_mirai_5f2ac36f\n"
     ]
    },
    {
     "name": "stdin",
     "output_type": "stream",
     "text": [
      " 0\n"
     ]
    },
    {
     "name": "stdout",
     "output_type": "stream",
     "text": [
      "measurement of 2024-06-29 14:57:08~2024-06-29 15:08:33 filtered out!\n",
      "measurement of 2024-06-29 14:57:08~2024-06-29 18:14:03 filtered out!\n",
      "measurement of 2024-06-29 14:57:08~2024-06-29 18:15:02 filtered out!\n",
      "measurement of 2024-06-29 14:57:10~2024-06-29 15:13:57 filtered out!\n",
      "measurement of 2024-06-29 14:57:08~2024-06-29 15:17:05 filtered out!\n",
      "measurement of 2024-06-29 14:57:08~2024-06-29 15:17:34 filtered out!\n",
      "measurement of 2024-06-29 14:57:08~2024-06-29 15:15:51 filtered out!\n",
      "measurement of 2024-06-29 14:57:08~2024-06-29 15:09:06 filtered out!\n",
      "measurement of 2024-06-29 14:57:08~2024-06-29 18:15:03 filtered out!\n",
      "measurement of 2024-06-29 14:57:08~2024-06-29 18:15:03 filtered out!\n"
     ]
    }
   ],
   "source": [
    "base = input_measurement_menu()"
   ]
  },
  {
   "cell_type": "code",
   "execution_count": 3,
   "id": "48be92e6-ccc0-4772-9330-09d261c20fbf",
   "metadata": {},
   "outputs": [
    {
     "data": {
      "application/vnd.jupyter.widget-view+json": {
       "model_id": "4fc23432595a4c71bdb173d1fb9f5806",
       "version_major": 2,
       "version_minor": 0
      },
      "text/plain": [
       "Box(children=(HTML(value='\\n<div id=\"ifr-pyg-00061c4a6d72f2bbQbg6XLn0Pako5vK3\" style=\"height: auto\">\\n    <hea…"
      ]
     },
     "metadata": {},
     "output_type": "display_data"
    },
    {
     "data": {
      "text/html": [],
      "text/plain": [
       "<IPython.core.display.HTML object>"
      ]
     },
     "metadata": {},
     "output_type": "display_data"
    }
   ],
   "source": [
    "f = f'{base}/measurements.csv'\n",
    "if os.path.isfile(f):\n",
    "    df = pd.read_csv(f)\n",
    "    walker = pyg.walk(df, kernel_computation=True)\n",
    "else:\n",
    "    print('file not exist!')"
   ]
  },
  {
   "cell_type": "code",
   "execution_count": 4,
   "id": "8b37c5ca-dc0e-4966-b2cd-193be353cfb1",
   "metadata": {},
   "outputs": [
    {
     "data": {
      "application/vnd.jupyter.widget-view+json": {
       "model_id": "648e3408c4114a118ba6ab073f2e63da",
       "version_major": 2,
       "version_minor": 0
      },
      "text/plain": [
       "Box(children=(HTML(value='\\n<div id=\"ifr-pyg-00061c4a6dfbcacfLq38GH7iu9jngNsE\" style=\"height: auto\">\\n    <hea…"
      ]
     },
     "metadata": {},
     "output_type": "display_data"
    },
    {
     "data": {
      "text/html": [],
      "text/plain": [
       "<IPython.core.display.HTML object>"
      ]
     },
     "metadata": {},
     "output_type": "display_data"
    }
   ],
   "source": [
    "f = f'{base}/cnc-status.csv'\n",
    "if os.path.isfile(f):\n",
    "    df = pd.read_csv(f)\n",
    "    walker = pyg.walk(df, kernel_computation=True)\n",
    "else:\n",
    "    print('file not exist!')"
   ]
  },
  {
   "cell_type": "code",
   "execution_count": null,
   "id": "28f2d52e-3ee3-4445-9adb-b5e8123f1f89",
   "metadata": {},
   "outputs": [
    {
     "data": {
      "application/vnd.jupyter.widget-view+json": {
       "model_id": "8a84e7ff0bd84849b89e91b49e6116a7",
       "version_major": 2,
       "version_minor": 0
      },
      "text/plain": [
       "Box(children=(HTML(value='\\n<div id=\"ifr-pyg-00061c4ae86b37b7BXqKaz8v03l1CtE5\" style=\"height: auto\">\\n    <hea…"
      ]
     },
     "metadata": {},
     "output_type": "display_data"
    },
    {
     "data": {
      "text/html": [],
      "text/plain": [
       "<IPython.core.display.HTML object>"
      ]
     },
     "metadata": {},
     "output_type": "display_data"
    }
   ],
   "source": [
    "f = f'{base}/cnc-stats.csv'\n",
    "if os.path.isfile(f):\n",
    "    df = pd.read_csv(f)\n",
    "    walker = pyg.walk(df, kernel_computation=True)\n",
    "else:\n",
    "    print('file not exist!')"
   ]
  },
  {
   "cell_type": "code",
   "execution_count": 55,
   "id": "b5c539f1-592b-45e9-997e-e6286abfe9b2",
   "metadata": {},
   "outputs": [
    {
     "data": {
      "application/vnd.jupyter.widget-view+json": {
       "model_id": "f66412cf42844d42a45c973325bcc5d9",
       "version_major": 2,
       "version_minor": 0
      },
      "text/plain": [
       "Box(children=(HTML(value='\\n<div id=\"ifr-pyg-00061c3717573ea7dK3feG1UWy5XHDOv\" style=\"height: auto\">\\n    <hea…"
      ]
     },
     "metadata": {},
     "output_type": "display_data"
    },
    {
     "data": {
      "text/html": [],
      "text/plain": [
       "<IPython.core.display.HTML object>"
      ]
     },
     "metadata": {},
     "output_type": "display_data"
    }
   ],
   "source": [
    "f = f'{base}/attacks.csv'\n",
    "if os.path.isfile(f):\n",
    "    df = pd.read_csv(f)\n",
    "    walker = pyg.walk(df, kernel_computation=True)\n",
    "else:\n",
    "    print('file not exist!')"
   ]
  },
  {
   "cell_type": "code",
   "execution_count": null,
   "id": "2871138f-b581-48fa-83fc-76e8dca7c3db",
   "metadata": {},
   "outputs": [],
   "source": []
  }
 ],
 "metadata": {
  "kernelspec": {
   "display_name": "Python 3 (ipykernel)",
   "language": "python",
   "name": "python3"
  },
  "language_info": {
   "codemirror_mode": {
    "name": "ipython",
    "version": 3
   },
   "file_extension": ".py",
   "mimetype": "text/x-python",
   "name": "python",
   "nbconvert_exporter": "python",
   "pygments_lexer": "ipython3",
   "version": "3.12.3"
  }
 },
 "nbformat": 4,
 "nbformat_minor": 5
}
